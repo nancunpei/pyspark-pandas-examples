{
 "cells": [
  {
   "cell_type": "markdown",
   "metadata": {},
   "source": [
    "## 前言\n",
    "本文主要讨论如何把pandas移植到spark, 他们的dataframe共有一些特性如操作方法和模式。pandas的灵活性比spark强， 但是经过一些改动spark基本上能完成相同的工作。\n",
    "同时又兼具了扩展性的优势，当然他们的语法和用法稍稍有些不同。\n",
    "\n",
    "## 主要不同处：\n",
    "\n",
    "### 分布式处理\n",
    "pandas只能单机处理， 把dataframe放进内存计算。spark是集群分布式地，可以处理的数据可以大大超出集群的内存数。\n",
    "\n",
    "### 懒执行\n",
    "spark不执行任何`transformation`直到需要运行`action`方法，`action`一般是存储或者展示数据的操作。这种将`transformation`延后的做法可以让spark调度知道所有的执行情况，用于优化执行顺序和读取需要的数据。\n",
    "懒执行也是scala的特性之一。通常，在pandas我们总是和数据打交道， 而在spark,我们总是在改变产生数据的执行计划。\n",
    "\n",
    "### 数据不可变\n",
    "scala的函数式编程通常倾向使用不可变对象， 每一个spark transformation会返回一个新的dataframe(除了一些meta info会改变）\n",
    "\n",
    "### 没有索引\n",
    "spark是没有索引概念的.\n",
    "\n",
    "### 单条数据索引不方便\n",
    "pandas可以快速使用索引找到数据，spark没有这个功能，因为在spark主要操作的是执行计划来展示数据， 而不是数据本身。\n",
    "\n",
    "### spark sql\n",
    "因为有了SQL功能的支持， spark更接近关系型数据库。"
   ]
  },
  {
   "cell_type": "markdown",
   "metadata": {},
   "source": [
    "## pandas和pyspark使用的一些例子"
   ]
  },
  {
   "cell_type": "code",
   "execution_count": 1,
   "metadata": {},
   "outputs": [],
   "source": [
    "import pandas as pd\n",
    "import pyspark.sql\n",
    "import pyspark.sql.functions as sf\n",
    "from pyspark.sql import SparkSession"
   ]
  },
  {
   "cell_type": "markdown",
   "metadata": {},
   "source": [
    "### Projections\n",
    "pandas的投影可以直接通过[]操作"
   ]
  },
  {
   "cell_type": "code",
   "execution_count": 2,
   "metadata": {},
   "outputs": [
    {
     "data": {
      "text/html": [
       "<div>\n",
       "<style scoped>\n",
       "    .dataframe tbody tr th:only-of-type {\n",
       "        vertical-align: middle;\n",
       "    }\n",
       "\n",
       "    .dataframe tbody tr th {\n",
       "        vertical-align: top;\n",
       "    }\n",
       "\n",
       "    .dataframe thead th {\n",
       "        text-align: right;\n",
       "    }\n",
       "</style>\n",
       "<table border=\"1\" class=\"dataframe\">\n",
       "  <thead>\n",
       "    <tr style=\"text-align: right;\">\n",
       "      <th></th>\n",
       "      <th>name</th>\n",
       "      <th>sex</th>\n",
       "      <th>age</th>\n",
       "    </tr>\n",
       "  </thead>\n",
       "  <tbody>\n",
       "    <tr>\n",
       "      <th>0</th>\n",
       "      <td>Alice</td>\n",
       "      <td>female</td>\n",
       "      <td>23</td>\n",
       "    </tr>\n",
       "    <tr>\n",
       "      <th>1</th>\n",
       "      <td>Bob</td>\n",
       "      <td>male</td>\n",
       "      <td>21</td>\n",
       "    </tr>\n",
       "    <tr>\n",
       "      <th>2</th>\n",
       "      <td>Charlie</td>\n",
       "      <td>male</td>\n",
       "      <td>27</td>\n",
       "    </tr>\n",
       "    <tr>\n",
       "      <th>3</th>\n",
       "      <td>Eve</td>\n",
       "      <td>female</td>\n",
       "      <td>24</td>\n",
       "    </tr>\n",
       "    <tr>\n",
       "      <th>4</th>\n",
       "      <td>Frances</td>\n",
       "      <td>female</td>\n",
       "      <td>19</td>\n",
       "    </tr>\n",
       "    <tr>\n",
       "      <th>5</th>\n",
       "      <td>George</td>\n",
       "      <td>male</td>\n",
       "      <td>31</td>\n",
       "    </tr>\n",
       "  </tbody>\n",
       "</table>\n",
       "</div>"
      ],
      "text/plain": [
       "      name     sex  age\n",
       "0    Alice  female   23\n",
       "1      Bob    male   21\n",
       "2  Charlie    male   27\n",
       "3      Eve  female   24\n",
       "4  Frances  female   19\n",
       "5   George    male   31"
      ]
     },
     "execution_count": 2,
     "metadata": {},
     "output_type": "execute_result"
    }
   ],
   "source": [
    "person_pd = pd.read_csv('data/persons.csv')\n",
    "person_pd[[\"name\", \"sex\", \"age\"]]"
   ]
  },
  {
   "cell_type": "markdown",
   "metadata": {},
   "source": [
    "pyspark也可以直接`[]`来选取投影， 但是这是一个语法糖， 实际是用了`select`方法"
   ]
  },
  {
   "cell_type": "code",
   "execution_count": 3,
   "metadata": {},
   "outputs": [],
   "source": [
    "spark = SparkSession.builder \\\n",
    "        .master(\"local[*]\") \\\n",
    "        .config(\"spark.driver.memory\",\"6G\") \\\n",
    "        .getOrCreate()\n",
    "#person_pd[['age','name']]\n"
   ]
  },
  {
   "cell_type": "code",
   "execution_count": 4,
   "metadata": {},
   "outputs": [],
   "source": [
    "person_sp = spark.read.option(\"inferSchema\", True) \\\n",
    "    .option(\"header\", True) \\\n",
    "    .csv('data/persons.csv')"
   ]
  },
  {
   "cell_type": "code",
   "execution_count": 5,
   "metadata": {},
   "outputs": [
    {
     "name": "stdout",
     "output_type": "stream",
     "text": [
      "+---+------+-------+------+\n",
      "|age|height|   name|   sex|\n",
      "+---+------+-------+------+\n",
      "| 23|   156|  Alice|female|\n",
      "| 21|   181|    Bob|  male|\n",
      "| 27|   176|Charlie|  male|\n",
      "| 24|   167|    Eve|female|\n",
      "| 19|   172|Frances|female|\n",
      "| 31|   191| George|  male|\n",
      "+---+------+-------+------+\n",
      "\n"
     ]
    }
   ],
   "source": [
    "person_sp.show()"
   ]
  },
  {
   "cell_type": "code",
   "execution_count": 17,
   "metadata": {},
   "outputs": [
    {
     "name": "stdout",
     "output_type": "stream",
     "text": [
      "+---+-------+\n",
      "|age|   name|\n",
      "+---+-------+\n",
      "| 23|  Alice|\n",
      "| 21|    Bob|\n",
      "| 27|Charlie|\n",
      "| 24|    Eve|\n",
      "| 19|Frances|\n",
      "| 31| George|\n",
      "+---+-------+\n",
      "\n"
     ]
    }
   ],
   "source": [
    "person_sp[['age', 'name']].show()"
   ]
  },
  {
   "cell_type": "markdown",
   "metadata": {},
   "source": [
    "### 简单transformation"
   ]
  },
  {
   "cell_type": "markdown",
   "metadata": {},
   "source": [
    "spark的`dataframe.select`实际上接受任何column对象， 一个column对象概念上是dataframe的一列。一列可以是dataframe的一列输入，也可以是一个计算结果或者多个列的transformation结果。 以改变一列为大写为例："
   ]
  },
  {
   "cell_type": "code",
   "execution_count": 6,
   "metadata": {},
   "outputs": [
    {
     "data": {
      "text/html": [
       "<div>\n",
       "<style scoped>\n",
       "    .dataframe tbody tr th:only-of-type {\n",
       "        vertical-align: middle;\n",
       "    }\n",
       "\n",
       "    .dataframe tbody tr th {\n",
       "        vertical-align: top;\n",
       "    }\n",
       "\n",
       "    .dataframe thead th {\n",
       "        text-align: right;\n",
       "    }\n",
       "</style>\n",
       "<table border=\"1\" class=\"dataframe\">\n",
       "  <thead>\n",
       "    <tr style=\"text-align: right;\">\n",
       "      <th></th>\n",
       "      <th>name</th>\n",
       "    </tr>\n",
       "  </thead>\n",
       "  <tbody>\n",
       "    <tr>\n",
       "      <th>0</th>\n",
       "      <td>ALICE</td>\n",
       "    </tr>\n",
       "    <tr>\n",
       "      <th>1</th>\n",
       "      <td>BOB</td>\n",
       "    </tr>\n",
       "    <tr>\n",
       "      <th>2</th>\n",
       "      <td>CHARLIE</td>\n",
       "    </tr>\n",
       "    <tr>\n",
       "      <th>3</th>\n",
       "      <td>EVE</td>\n",
       "    </tr>\n",
       "    <tr>\n",
       "      <th>4</th>\n",
       "      <td>FRANCES</td>\n",
       "    </tr>\n",
       "    <tr>\n",
       "      <th>5</th>\n",
       "      <td>GEORGE</td>\n",
       "    </tr>\n",
       "  </tbody>\n",
       "</table>\n",
       "</div>"
      ],
      "text/plain": [
       "      name\n",
       "0    ALICE\n",
       "1      BOB\n",
       "2  CHARLIE\n",
       "3      EVE\n",
       "4  FRANCES\n",
       "5   GEORGE"
      ]
     },
     "execution_count": 6,
     "metadata": {},
     "output_type": "execute_result"
    }
   ],
   "source": [
    "ret = pd.DataFrame(person_pd['name'].apply(lambda x: x.upper()))\n",
    "ret"
   ]
  },
  {
   "cell_type": "code",
   "execution_count": 7,
   "metadata": {},
   "outputs": [
    {
     "name": "stdout",
     "output_type": "stream",
     "text": [
      "+-----------+\n",
      "|upper(name)|\n",
      "+-----------+\n",
      "|      ALICE|\n",
      "|        BOB|\n",
      "|    CHARLIE|\n",
      "|        EVE|\n",
      "|    FRANCES|\n",
      "|     GEORGE|\n",
      "+-----------+\n",
      "\n"
     ]
    }
   ],
   "source": [
    "result = person_sp.select(\n",
    "  sf.upper(person_sp.name)\n",
    ")\n",
    "result.show()"
   ]
  },
  {
   "cell_type": "markdown",
   "metadata": {},
   "source": [
    "### 给dataframe增加一列"
   ]
  },
  {
   "cell_type": "markdown",
   "metadata": {},
   "source": [
    "pandas给dataframe增加一列很方便，直接给df赋值就行了。spark需要使用`withColumn`函数。"
   ]
  },
  {
   "cell_type": "code",
   "execution_count": 8,
   "metadata": {},
   "outputs": [
    {
     "data": {
      "text/html": [
       "<div>\n",
       "<style scoped>\n",
       "    .dataframe tbody tr th:only-of-type {\n",
       "        vertical-align: middle;\n",
       "    }\n",
       "\n",
       "    .dataframe tbody tr th {\n",
       "        vertical-align: top;\n",
       "    }\n",
       "\n",
       "    .dataframe thead th {\n",
       "        text-align: right;\n",
       "    }\n",
       "</style>\n",
       "<table border=\"1\" class=\"dataframe\">\n",
       "  <thead>\n",
       "    <tr style=\"text-align: right;\">\n",
       "      <th></th>\n",
       "      <th>age</th>\n",
       "      <th>height</th>\n",
       "      <th>name</th>\n",
       "      <th>sex</th>\n",
       "      <th>salutation</th>\n",
       "    </tr>\n",
       "  </thead>\n",
       "  <tbody>\n",
       "    <tr>\n",
       "      <th>0</th>\n",
       "      <td>23</td>\n",
       "      <td>156</td>\n",
       "      <td>Alice</td>\n",
       "      <td>female</td>\n",
       "      <td>Mrs Alice</td>\n",
       "    </tr>\n",
       "    <tr>\n",
       "      <th>1</th>\n",
       "      <td>21</td>\n",
       "      <td>181</td>\n",
       "      <td>Bob</td>\n",
       "      <td>male</td>\n",
       "      <td>Mr Bob</td>\n",
       "    </tr>\n",
       "    <tr>\n",
       "      <th>2</th>\n",
       "      <td>27</td>\n",
       "      <td>176</td>\n",
       "      <td>Charlie</td>\n",
       "      <td>male</td>\n",
       "      <td>Mr Charlie</td>\n",
       "    </tr>\n",
       "    <tr>\n",
       "      <th>3</th>\n",
       "      <td>24</td>\n",
       "      <td>167</td>\n",
       "      <td>Eve</td>\n",
       "      <td>female</td>\n",
       "      <td>Mrs Eve</td>\n",
       "    </tr>\n",
       "    <tr>\n",
       "      <th>4</th>\n",
       "      <td>19</td>\n",
       "      <td>172</td>\n",
       "      <td>Frances</td>\n",
       "      <td>female</td>\n",
       "      <td>Mrs Frances</td>\n",
       "    </tr>\n",
       "    <tr>\n",
       "      <th>5</th>\n",
       "      <td>31</td>\n",
       "      <td>191</td>\n",
       "      <td>George</td>\n",
       "      <td>male</td>\n",
       "      <td>Mr George</td>\n",
       "    </tr>\n",
       "  </tbody>\n",
       "</table>\n",
       "</div>"
      ],
      "text/plain": [
       "   age  height     name     sex   salutation\n",
       "0   23     156    Alice  female    Mrs Alice\n",
       "1   21     181      Bob    male       Mr Bob\n",
       "2   27     176  Charlie    male   Mr Charlie\n",
       "3   24     167      Eve  female      Mrs Eve\n",
       "4   19     172  Frances  female  Mrs Frances\n",
       "5   31     191   George    male    Mr George"
      ]
     },
     "execution_count": 8,
     "metadata": {},
     "output_type": "execute_result"
    }
   ],
   "source": [
    "def create_salutation(row):\n",
    "  sex = row[0]\n",
    "  name = row[1]\n",
    "  if sex == 'male':\n",
    "    return 'Mr '+name\n",
    "  else:\n",
    "    return \"Mrs \"+name\n",
    "   \n",
    "result = person_pd.copy()\n",
    "result['salutation'] = result[['sex','name']].apply(create_salutation, axis=1, result_type='expand')\n",
    "result"
   ]
  },
  {
   "cell_type": "code",
   "execution_count": 9,
   "metadata": {},
   "outputs": [
    {
     "name": "stdout",
     "output_type": "stream",
     "text": [
      "+---+------+-------+------+-----------+\n",
      "|age|height|   name|   sex| salutation|\n",
      "+---+------+-------+------+-----------+\n",
      "| 23|   156|  Alice|female|  Mrs Alice|\n",
      "| 21|   181|    Bob|  male|     Mr Bob|\n",
      "| 27|   176|Charlie|  male| Mr Charlie|\n",
      "| 24|   167|    Eve|female|    Mrs Eve|\n",
      "| 19|   172|Frances|female|Mrs Frances|\n",
      "| 31|   191| George|  male|  Mr George|\n",
      "+---+------+-------+------+-----------+\n",
      "\n"
     ]
    }
   ],
   "source": [
    "result = person_sp.withColumn(\n",
    "    \"salutation\",\n",
    "    sf.concat(sf.when(person_sp.sex == 'male', \"Mr \").otherwise(\"Mrs \"), person_sp.name)\n",
    ")\n",
    "result.show()"
   ]
  },
  {
   "cell_type": "markdown",
   "metadata": {},
   "source": [
    "### 过滤"
   ]
  },
  {
   "cell_type": "code",
   "execution_count": 32,
   "metadata": {},
   "outputs": [
    {
     "data": {
      "text/html": [
       "<div>\n",
       "<style scoped>\n",
       "    .dataframe tbody tr th:only-of-type {\n",
       "        vertical-align: middle;\n",
       "    }\n",
       "\n",
       "    .dataframe tbody tr th {\n",
       "        vertical-align: top;\n",
       "    }\n",
       "\n",
       "    .dataframe thead th {\n",
       "        text-align: right;\n",
       "    }\n",
       "</style>\n",
       "<table border=\"1\" class=\"dataframe\">\n",
       "  <thead>\n",
       "    <tr style=\"text-align: right;\">\n",
       "      <th></th>\n",
       "      <th>age</th>\n",
       "      <th>height</th>\n",
       "      <th>name</th>\n",
       "      <th>sex</th>\n",
       "    </tr>\n",
       "  </thead>\n",
       "  <tbody>\n",
       "    <tr>\n",
       "      <th>0</th>\n",
       "      <td>23</td>\n",
       "      <td>156</td>\n",
       "      <td>Alice</td>\n",
       "      <td>female</td>\n",
       "    </tr>\n",
       "    <tr>\n",
       "      <th>1</th>\n",
       "      <td>21</td>\n",
       "      <td>181</td>\n",
       "      <td>Bob</td>\n",
       "      <td>male</td>\n",
       "    </tr>\n",
       "    <tr>\n",
       "      <th>2</th>\n",
       "      <td>27</td>\n",
       "      <td>176</td>\n",
       "      <td>Charlie</td>\n",
       "      <td>male</td>\n",
       "    </tr>\n",
       "    <tr>\n",
       "      <th>3</th>\n",
       "      <td>24</td>\n",
       "      <td>167</td>\n",
       "      <td>Eve</td>\n",
       "      <td>female</td>\n",
       "    </tr>\n",
       "    <tr>\n",
       "      <th>5</th>\n",
       "      <td>31</td>\n",
       "      <td>191</td>\n",
       "      <td>George</td>\n",
       "      <td>male</td>\n",
       "    </tr>\n",
       "  </tbody>\n",
       "</table>\n",
       "</div>"
      ],
      "text/plain": [
       "   age  height     name     sex\n",
       "0   23     156    Alice  female\n",
       "1   21     181      Bob    male\n",
       "2   27     176  Charlie    male\n",
       "3   24     167      Eve  female\n",
       "5   31     191   George    male"
      ]
     },
     "execution_count": 32,
     "metadata": {},
     "output_type": "execute_result"
    }
   ],
   "source": [
    "result = person_pd[person_pd['age'] > 20]\n",
    "result"
   ]
  },
  {
   "cell_type": "markdown",
   "metadata": {},
   "source": [
    "spark支持三种过滤写法"
   ]
  },
  {
   "cell_type": "code",
   "execution_count": 36,
   "metadata": {},
   "outputs": [
    {
     "name": "stdout",
     "output_type": "stream",
     "text": [
      "+---+------+-------+------+\n",
      "|age|height|   name|   sex|\n",
      "+---+------+-------+------+\n",
      "| 23|   156|  Alice|female|\n",
      "| 21|   181|    Bob|  male|\n",
      "| 27|   176|Charlie|  male|\n",
      "| 24|   167|    Eve|female|\n",
      "| 31|   191| George|  male|\n",
      "+---+------+-------+------+\n",
      "\n"
     ]
    }
   ],
   "source": [
    "person_sp.filter(person_sp['age'] > 20).show()"
   ]
  },
  {
   "cell_type": "code",
   "execution_count": 37,
   "metadata": {},
   "outputs": [
    {
     "name": "stdout",
     "output_type": "stream",
     "text": [
      "+---+------+-------+------+\n",
      "|age|height|   name|   sex|\n",
      "+---+------+-------+------+\n",
      "| 23|   156|  Alice|female|\n",
      "| 21|   181|    Bob|  male|\n",
      "| 27|   176|Charlie|  male|\n",
      "| 24|   167|    Eve|female|\n",
      "| 31|   191| George|  male|\n",
      "+---+------+-------+------+\n",
      "\n"
     ]
    }
   ],
   "source": [
    "person_sp[person_sp['age'] > 20].show()"
   ]
  },
  {
   "cell_type": "code",
   "execution_count": 39,
   "metadata": {},
   "outputs": [
    {
     "name": "stdout",
     "output_type": "stream",
     "text": [
      "+---+------+-------+------+\n",
      "|age|height|   name|   sex|\n",
      "+---+------+-------+------+\n",
      "| 23|   156|  Alice|female|\n",
      "| 21|   181|    Bob|  male|\n",
      "| 27|   176|Charlie|  male|\n",
      "| 24|   167|    Eve|female|\n",
      "| 31|   191| George|  male|\n",
      "+---+------+-------+------+\n",
      "\n"
     ]
    }
   ],
   "source": [
    "person_sp.filter('age > 20').show()"
   ]
  },
  {
   "cell_type": "markdown",
   "metadata": {},
   "source": [
    "### 分组和聚合"
   ]
  },
  {
   "cell_type": "markdown",
   "metadata": {},
   "source": [
    "类似sql中的`select aggregation Group by grouping`语句功能，pandas和spark都定义了一些聚合函数，如：\n",
    "- count\n",
    "- sum\n",
    "- avg\n",
    "- corr\n",
    "- first\n",
    "- last\n",
    "\n",
    "可以具体查看[PySpark Function Documentation](http://spark.apache.org/docs/latest/api/python/pyspark.sql.html#module-pyspark.sql.functions)"
   ]
  },
  {
   "cell_type": "code",
   "execution_count": 41,
   "metadata": {},
   "outputs": [
    {
     "data": {
      "text/html": [
       "<div>\n",
       "<style scoped>\n",
       "    .dataframe tbody tr th:only-of-type {\n",
       "        vertical-align: middle;\n",
       "    }\n",
       "\n",
       "    .dataframe tbody tr th {\n",
       "        vertical-align: top;\n",
       "    }\n",
       "\n",
       "    .dataframe thead tr th {\n",
       "        text-align: left;\n",
       "    }\n",
       "\n",
       "    .dataframe thead tr:last-of-type th {\n",
       "        text-align: right;\n",
       "    }\n",
       "</style>\n",
       "<table border=\"1\" class=\"dataframe\">\n",
       "  <thead>\n",
       "    <tr>\n",
       "      <th></th>\n",
       "      <th>age</th>\n",
       "      <th colspan=\"2\" halign=\"left\">height</th>\n",
       "    </tr>\n",
       "    <tr>\n",
       "      <th></th>\n",
       "      <th>mean</th>\n",
       "      <th>min</th>\n",
       "      <th>max</th>\n",
       "    </tr>\n",
       "    <tr>\n",
       "      <th>sex</th>\n",
       "      <th></th>\n",
       "      <th></th>\n",
       "      <th></th>\n",
       "    </tr>\n",
       "  </thead>\n",
       "  <tbody>\n",
       "    <tr>\n",
       "      <th>female</th>\n",
       "      <td>22.000000</td>\n",
       "      <td>156</td>\n",
       "      <td>172</td>\n",
       "    </tr>\n",
       "    <tr>\n",
       "      <th>male</th>\n",
       "      <td>26.333333</td>\n",
       "      <td>176</td>\n",
       "      <td>191</td>\n",
       "    </tr>\n",
       "  </tbody>\n",
       "</table>\n",
       "</div>"
      ],
      "text/plain": [
       "              age height     \n",
       "             mean    min  max\n",
       "sex                          \n",
       "female  22.000000    156  172\n",
       "male    26.333333    176  191"
      ]
     },
     "execution_count": 41,
     "metadata": {},
     "output_type": "execute_result"
    }
   ],
   "source": [
    "result = person_pd.groupby('sex').agg({'age': 'mean', 'height':['min', 'max']})\n",
    "result"
   ]
  },
  {
   "cell_type": "code",
   "execution_count": 66,
   "metadata": {},
   "outputs": [
    {
     "name": "stdout",
     "output_type": "stream",
     "text": [
      "+------+----------+----------+------------------+\n",
      "|   sex|min height|max height|          avg(age)|\n",
      "+------+----------+----------+------------------+\n",
      "|female|       156|       172|              22.0|\n",
      "|  male|       176|       191|26.333333333333332|\n",
      "+------+----------+----------+------------------+\n",
      "\n"
     ]
    }
   ],
   "source": [
    "from pyspark.sql.functions import avg, min, max\n",
    "result = person_sp.groupBy(person_sp.sex).agg(min(person_sp.height).alias('min height'), max(person_sp.height).alias('max height'),\n",
    "                                             avg(person_sp.age))\n",
    "   \n",
    "result.show()"
   ]
  },
  {
   "cell_type": "code",
   "execution_count": 49,
   "metadata": {},
   "outputs": [
    {
     "name": "stdout",
     "output_type": "stream",
     "text": [
      "+---+------+-------+------+\n",
      "|age|height|   name|   sex|\n",
      "+---+------+-------+------+\n",
      "| 23|   156|  Alice|female|\n",
      "| 21|   181|    Bob|  male|\n",
      "| 27|   176|Charlie|  male|\n",
      "| 24|   167|    Eve|female|\n",
      "| 19|   172|Frances|female|\n",
      "| 31|   191| George|  male|\n",
      "+---+------+-------+------+\n",
      "\n"
     ]
    }
   ],
   "source": [
    "person_sp.show()"
   ]
  },
  {
   "cell_type": "markdown",
   "metadata": {},
   "source": [
    "### join"
   ]
  },
  {
   "cell_type": "markdown",
   "metadata": {},
   "source": [
    "spark也支持跨dataframe做join, 让我们加个数据作例子。"
   ]
  },
  {
   "cell_type": "code",
   "execution_count": 73,
   "metadata": {},
   "outputs": [
    {
     "data": {
      "text/html": [
       "<div>\n",
       "<style scoped>\n",
       "    .dataframe tbody tr th:only-of-type {\n",
       "        vertical-align: middle;\n",
       "    }\n",
       "\n",
       "    .dataframe tbody tr th {\n",
       "        vertical-align: top;\n",
       "    }\n",
       "\n",
       "    .dataframe thead th {\n",
       "        text-align: right;\n",
       "    }\n",
       "</style>\n",
       "<table border=\"1\" class=\"dataframe\">\n",
       "  <thead>\n",
       "    <tr style=\"text-align: right;\">\n",
       "      <th></th>\n",
       "      <th>city</th>\n",
       "      <th>name</th>\n",
       "    </tr>\n",
       "  </thead>\n",
       "  <tbody>\n",
       "    <tr>\n",
       "      <th>0</th>\n",
       "      <td>Hamburg</td>\n",
       "      <td>Alice</td>\n",
       "    </tr>\n",
       "    <tr>\n",
       "      <th>1</th>\n",
       "      <td>Frankfurt</td>\n",
       "      <td>Bob</td>\n",
       "    </tr>\n",
       "    <tr>\n",
       "      <th>2</th>\n",
       "      <td>Berlin</td>\n",
       "      <td>Henry</td>\n",
       "    </tr>\n",
       "  </tbody>\n",
       "</table>\n",
       "</div>"
      ],
      "text/plain": [
       "        city   name\n",
       "0    Hamburg  Alice\n",
       "1  Frankfurt    Bob\n",
       "2     Berlin  Henry"
      ]
     },
     "execution_count": 73,
     "metadata": {},
     "output_type": "execute_result"
    }
   ],
   "source": [
    "addresses = spark.read.json('data/addresses.json')\n",
    "addresses_pd = addresses.toPandas()\n",
    "addresses_pd"
   ]
  },
  {
   "cell_type": "code",
   "execution_count": 74,
   "metadata": {},
   "outputs": [
    {
     "data": {
      "text/html": [
       "<div>\n",
       "<style scoped>\n",
       "    .dataframe tbody tr th:only-of-type {\n",
       "        vertical-align: middle;\n",
       "    }\n",
       "\n",
       "    .dataframe tbody tr th {\n",
       "        vertical-align: top;\n",
       "    }\n",
       "\n",
       "    .dataframe thead th {\n",
       "        text-align: right;\n",
       "    }\n",
       "</style>\n",
       "<table border=\"1\" class=\"dataframe\">\n",
       "  <thead>\n",
       "    <tr style=\"text-align: right;\">\n",
       "      <th></th>\n",
       "      <th>age</th>\n",
       "      <th>height</th>\n",
       "      <th>name</th>\n",
       "      <th>sex</th>\n",
       "      <th>city</th>\n",
       "    </tr>\n",
       "  </thead>\n",
       "  <tbody>\n",
       "    <tr>\n",
       "      <th>0</th>\n",
       "      <td>23</td>\n",
       "      <td>156</td>\n",
       "      <td>Alice</td>\n",
       "      <td>female</td>\n",
       "      <td>Hamburg</td>\n",
       "    </tr>\n",
       "    <tr>\n",
       "      <th>1</th>\n",
       "      <td>21</td>\n",
       "      <td>181</td>\n",
       "      <td>Bob</td>\n",
       "      <td>male</td>\n",
       "      <td>Frankfurt</td>\n",
       "    </tr>\n",
       "  </tbody>\n",
       "</table>\n",
       "</div>"
      ],
      "text/plain": [
       "   age  height   name     sex       city\n",
       "0   23     156  Alice  female    Hamburg\n",
       "1   21     181    Bob    male  Frankfurt"
      ]
     },
     "execution_count": 74,
     "metadata": {},
     "output_type": "execute_result"
    }
   ],
   "source": [
    "pd_join = person_pd.merge(addresses_pd, left_on=['name'], right_on=['name'])\n",
    "pd_join"
   ]
  },
  {
   "cell_type": "code",
   "execution_count": 77,
   "metadata": {},
   "outputs": [
    {
     "name": "stdout",
     "output_type": "stream",
     "text": [
      "+---+------+-----+------+---------+-----+\n",
      "|age|height| name|   sex|     city| name|\n",
      "+---+------+-----+------+---------+-----+\n",
      "| 23|   156|Alice|female|  Hamburg|Alice|\n",
      "| 21|   181|  Bob|  male|Frankfurt|  Bob|\n",
      "+---+------+-----+------+---------+-----+\n",
      "\n",
      "+-----+---+------+------+---------+\n",
      "| name|age|height|   sex|     city|\n",
      "+-----+---+------+------+---------+\n",
      "|Alice| 23|   156|female|  Hamburg|\n",
      "|  Bob| 21|   181|  male|Frankfurt|\n",
      "+-----+---+------+------+---------+\n",
      "\n"
     ]
    }
   ],
   "source": [
    "sp_join = person_sp.join(addresses, person_sp.name==addresses.name)\n",
    "sp_join.show()\n",
    "sp_join_1 = person_sp.join(addresses, on=['name'])\n",
    "sp_join_1.show()"
   ]
  },
  {
   "cell_type": "markdown",
   "metadata": {},
   "source": [
    "### 重装dataframe"
   ]
  },
  {
   "cell_type": "markdown",
   "metadata": {},
   "source": [
    "pandas可以很方便地将现有的一列数据赋给一个新的列， 但是spark做起来不是很方便，需要join操作。"
   ]
  },
  {
   "cell_type": "code",
   "execution_count": 79,
   "metadata": {},
   "outputs": [
    {
     "data": {
      "text/html": [
       "<div>\n",
       "<style scoped>\n",
       "    .dataframe tbody tr th:only-of-type {\n",
       "        vertical-align: middle;\n",
       "    }\n",
       "\n",
       "    .dataframe tbody tr th {\n",
       "        vertical-align: top;\n",
       "    }\n",
       "\n",
       "    .dataframe thead th {\n",
       "        text-align: right;\n",
       "    }\n",
       "</style>\n",
       "<table border=\"1\" class=\"dataframe\">\n",
       "  <thead>\n",
       "    <tr style=\"text-align: right;\">\n",
       "      <th></th>\n",
       "      <th>name</th>\n",
       "      <th>age</th>\n",
       "      <th>h2</th>\n",
       "    </tr>\n",
       "  </thead>\n",
       "  <tbody>\n",
       "    <tr>\n",
       "      <th>0</th>\n",
       "      <td>Alice</td>\n",
       "      <td>23</td>\n",
       "      <td>156</td>\n",
       "    </tr>\n",
       "    <tr>\n",
       "      <th>1</th>\n",
       "      <td>Bob</td>\n",
       "      <td>21</td>\n",
       "      <td>181</td>\n",
       "    </tr>\n",
       "    <tr>\n",
       "      <th>2</th>\n",
       "      <td>Charlie</td>\n",
       "      <td>27</td>\n",
       "      <td>176</td>\n",
       "    </tr>\n",
       "    <tr>\n",
       "      <th>3</th>\n",
       "      <td>Eve</td>\n",
       "      <td>24</td>\n",
       "      <td>167</td>\n",
       "    </tr>\n",
       "    <tr>\n",
       "      <th>4</th>\n",
       "      <td>Frances</td>\n",
       "      <td>19</td>\n",
       "      <td>172</td>\n",
       "    </tr>\n",
       "    <tr>\n",
       "      <th>5</th>\n",
       "      <td>George</td>\n",
       "      <td>31</td>\n",
       "      <td>191</td>\n",
       "    </tr>\n",
       "  </tbody>\n",
       "</table>\n",
       "</div>"
      ],
      "text/plain": [
       "      name  age   h2\n",
       "0    Alice   23  156\n",
       "1      Bob   21  181\n",
       "2  Charlie   27  176\n",
       "3      Eve   24  167\n",
       "4  Frances   19  172\n",
       "5   George   31  191"
      ]
     },
     "execution_count": 79,
     "metadata": {},
     "output_type": "execute_result"
    }
   ],
   "source": [
    "df = person_pd[['name', 'age']]\n",
    "col = person_pd['height']\n",
    "result = df.copy()\n",
    "result['h2'] = col\n",
    "result"
   ]
  },
  {
   "cell_type": "code",
   "execution_count": 80,
   "metadata": {},
   "outputs": [
    {
     "name": "stdout",
     "output_type": "stream",
     "text": [
      "+-------+---+------+\n",
      "|   name|age|height|\n",
      "+-------+---+------+\n",
      "|  Alice| 23|   156|\n",
      "|    Bob| 21|   181|\n",
      "|Charlie| 27|   176|\n",
      "|    Eve| 24|   167|\n",
      "|Frances| 19|   172|\n",
      "| George| 31|   191|\n",
      "+-------+---+------+\n",
      "\n"
     ]
    }
   ],
   "source": [
    "df = person_sp[['name', 'age']]\n",
    "col = person_sp[['name', 'height']]\n",
    "result = df.join(col, on=['name'])\n",
    "result.show()"
   ]
  }
 ],
 "metadata": {
  "kernelspec": {
   "display_name": "Python 3",
   "language": "python",
   "name": "python3"
  },
  "language_info": {
   "codemirror_mode": {
    "name": "ipython",
    "version": 3
   },
   "file_extension": ".py",
   "mimetype": "text/x-python",
   "name": "python",
   "nbconvert_exporter": "python",
   "pygments_lexer": "ipython3",
   "version": "3.6.9"
  }
 },
 "nbformat": 4,
 "nbformat_minor": 2
}
